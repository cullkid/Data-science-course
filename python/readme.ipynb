{
 "cells": [
  {
   "cell_type": "markdown",
   "metadata": {},
   "source": [
    "### Difference Between Tuple, Set, and List in Python\n",
    "# Feature\tTuple (tuple)\tSet (set)\tList (list)\n",
    "Definition:\tOrdered, immutable collection\tUnordered, unique collection\tOrdered, mutable collection\n",
    "\n",
    "Syntax:\tmy_tuple = (1, 2, 3)\tmy_set = {1, 2, 3}\tmy_list = [1, 2, 3]\n",
    "\n",
    "Order:\t✅ Ordered (keeps elements in the same order)\t❌ Unordered (does not maintain order)\t✅ Ordered\n",
    "\n",
    "Mutability:\t❌ Immutable (cannot change elements after creation)\t✅ Mutable (can add/remove items, but elements must be unique)\t✅ Mutable (can modify, add, or remove items)\n",
    "\n",
    "Duplicates:\t✅ Allows duplicates\t❌ No duplicates allowed\t✅ Allows duplicates\n",
    "\n",
    "Indexing:\t✅ Supports indexing (my_tuple[0])\t❌ No indexing (unordered)\t✅ Supports indexing (my_list[0])\n",
    "\n",
    "Performance:\tFaster than lists for iteration\tFaster for checking membership (in)\tSlower than tuples, but more flexible\n",
    "Use Case\tFixed data (e.g., coordinates, days of the week)\tUnique items (e.g., removing duplicates, set operations)\tDynamic data (e.g., lists of users, shopping carts)\n",
    "\n",
    "#### Examples:\n",
    "1. Tuple Example (Immutable & Ordered)\n",
    "my_tuple = (10, 20, 30)\n",
    "print(my_tuple[0])  # Output: 10\n",
    " my_tuple[1] = 50  # ❌ Error! Tuples are immutable.\n",
    "\n",
    "2. Set Example (Unordered & Unique)\n",
    "my_set = {10, 20, 30, 20}  # Duplicate '20' is removed automatically.\n",
    "print(my_set)  # Output: {10, 20, 30}\n",
    "my_set.add(40)  # ✅ Adding an element\n",
    "my_set.remove(10)  # ✅ Removing an element\n",
    "\n",
    "3. List Example (Mutable & Ordered)\n",
    "my_list = [10, 20, 30]\n",
    "my_list.append(40)  # ✅ Adding an element\n",
    "my_list[1] = 50  # ✅ Modifying an element\n",
    "print(my_list)  # Output: [10, 50, 30, 40]\n",
    "\n",
    "#### When to Use What?\n",
    "✔ Tuple → When you need a fixed, ordered collection of values (e.g., coordinates, database records).\n",
    "✔ Set → When you need unique values and want fast membership checks (e.g., removing duplicates, checking if an item exists).\n",
    "✔ List → When you need an ordered, changeable collection of values (e.g., to-do lists, storing user data)."
   ]
  }
 ],
 "metadata": {
  "language_info": {
   "name": "python"
  }
 },
 "nbformat": 4,
 "nbformat_minor": 2
}
